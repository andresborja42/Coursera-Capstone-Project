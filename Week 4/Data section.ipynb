{
 "cells": [
  {
   "cell_type": "markdown",
   "metadata": {},
   "source": [
    "## 2. Data \n",
    "\n",
    "#### 2.1 Data sources\n",
    "In order to be able to classify Quito’s neighborhoods on a map, we will need a database which includes all of the **city’s neighborhoods with their geographical coordinates**. The city’s municipality website has several georeferenced databases of the city’s geopolitical and administrative divisions. We picked the databased named “Barrio - Sector”, from their [website](http://gobiernoabierto.quito.gob.ec/?page_id=1122).\n",
    "\n",
    "The classification parameter will be the kinds of venues that exist in each neighborhood. This information will be obtained from Foursquare, a location data provider with information about all manner of venues and events within an area of interest. Such information includes venues names, categories, locations, menus, ratings and even pictures. We will be using using the [Foursquare API](https://developer.foursquare.com/docs/places-api/) to explore the **venues surrounding the coordinates for each neighborhood**, and then classifying the neighborhoods based on their assigned categories. \n",
    "\n",
    "#### 2.2 Data cleaning\n",
    "The municipality’s neighborhoods database includes all of the neighborhoods that make up the Metropolitan District of Quito, which is classified in terms of urban and rural boroughs. There are a total of 1268 neighborhoods in the MD of Quito. We decided to work with the urban area neighborhoods only, because rural areas are too remote and isolated, with very low population density. Almost no venues could be found around the rural neighborhoods when exploring them through Foursquare, so it wouldn’t make sense to include them in our analysis. The urban area is made up of 516 neighborhoods. Additionally, 28 of these urban neighborhoods did not have a name assigned in the database, so we decided to exclude them from the analysis as well. In the end we kept **488 neighborhoods from Quito’s urban area**. \n"
   ]
  },
  {
   "cell_type": "code",
   "execution_count": null,
   "metadata": {},
   "outputs": [],
   "source": []
  }
 ],
 "metadata": {
  "kernelspec": {
   "display_name": "Python",
   "language": "python",
   "name": "conda-env-python-py"
  },
  "language_info": {
   "codemirror_mode": {
    "name": "ipython",
    "version": 3
   },
   "file_extension": ".py",
   "mimetype": "text/x-python",
   "name": "python",
   "nbconvert_exporter": "python",
   "pygments_lexer": "ipython3",
   "version": "3.6.10"
  }
 },
 "nbformat": 4,
 "nbformat_minor": 4
}
