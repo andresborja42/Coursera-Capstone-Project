{
 "cells": [
  {
   "cell_type": "markdown",
   "metadata": {},
   "source": [
    "<h1 align=center><font size = 5>Starbucks in Quito, EC</font></h1>\n",
    "<h1 align=center><font size = 4>Finding the Best Location for the First Starbucks in Quito </font></h1>\n",
    "<h1 align=center><font size = 4>by Andrés Borja</font></h1>\n",
    "\n",
    "![Starbucks in Quito logo](https://github.com/andresborja42/Coursera_Capstone/blob/master/6000199437390.jpg)\n",
    "\n",
    "## 1. Introduction\n",
    "#### 1.1 Background\n",
    "Latin America is the region from which Starbucks coffee buys the majority of its beans, and yet, it turns out it’s among this is also the region where the world renowned coffee giant has the least amount of venues. Ecuador, in particular, does not have a Starbucks coffee shop, not even in the capital city, Quito. While it is true that up to a few years ago coffee culture was restricted to the privacy of Ecuadorian homes, in recent years this has rapidly changed. Even though Ecuador is not typically known for coffee production, it is slowly gaining a worldwide reputation of excellence. Coffee growing areas in the Andes, north of Quito and just south of Cuenca, have recently been recognized for the high quality of their product. As a consequence, Ecuadorians are drinking more and more coffee. Several roasters and small speciality coffee shops have started sprouting across Quito and some other cities, introducing locals and tourists alike to the wonders of great tasting coffee. \n",
    "\n",
    "Two successful brands inspired by the Starbucks model have already opened in the country’s biggest cities: Sweet & Coffee, a local company, and Juan Valdez, from Colombia. They have replicated the Starbucks model and their results have demonstrated that Ecuadorians do like drinking coffee outside their homes, surrounded by strangers, while working on their laptops. Of course, the target population is the country’s booming middle class and the large number of upwardly mobile young professionals, a demographic heavily influenced by the U.S. and its culture. Such customers keep growing and were Starbucks to open a coffee shop in Quito, it would immediately be flooded by customers.\n",
    "\n",
    "#### 1.2 Business problem and audience\n",
    "However, Quito is a big city; in order to guarantee its success, Starbucks should carefully and strategically plan where exactly to open its first store in Ecuador’s capital. They should try to pick the best area or neighborhood based on the kind of venues that already exist there, which should be economically tied to coffee shops. **By classifying the neighborhoods of Quito in terms of its extant venues, Starbucks could make a better informed decision of where to open their first store in Ecuador’s capital, thus improving the likelihood of their success.** Fortunately, several data science and machine learning techniques can help Starbucks explore and cluster Quito’s neighborhoods in order to better understand the city, its structure and its dynamics, so that they can accomplish their business goals."
   ]
  },
  {
   "cell_type": "code",
   "execution_count": null,
   "metadata": {},
   "outputs": [],
   "source": []
  }
 ],
 "metadata": {
  "kernelspec": {
   "display_name": "Python",
   "language": "python",
   "name": "conda-env-python-py"
  },
  "language_info": {
   "codemirror_mode": {
    "name": "ipython",
    "version": 3
   },
   "file_extension": ".py",
   "mimetype": "text/x-python",
   "name": "python",
   "nbconvert_exporter": "python",
   "pygments_lexer": "ipython3",
   "version": "3.6.10"
  }
 },
 "nbformat": 4,
 "nbformat_minor": 4
}
